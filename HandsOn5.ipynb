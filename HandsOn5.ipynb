{
  "nbformat": 4,
  "nbformat_minor": 0,
  "metadata": {
    "colab": {
      "provenance": []
    },
    "kernelspec": {
      "name": "python3",
      "display_name": "Python 3"
    },
    "language_info": {
      "name": "python"
    }
  },
  "cells": [
    {
      "cell_type": "code",
      "execution_count": 1,
      "metadata": {
        "colab": {
          "base_uri": "https://localhost:8080/"
        },
        "id": "XJz5nfDw-kK_",
        "outputId": "4ac619c1-6851-4d37-e6c9-8dc325fe92fe"
      },
      "outputs": [
        {
          "output_type": "stream",
          "name": "stdout",
          "text": [
            "[1, 4, 3, 5, 10]\n",
            "[1, 4, 2, 5, 10]\n",
            "Popped root: 1\n",
            "[2, 4, 10, 5]\n"
          ]
        }
      ],
      "source": [
        "# 1. Implement a min heap data structure. For the parent and left/right functions use bit manipulation operators. In addition your heap should have the following functionality\n",
        "# The ability to initially build the heap (build_min_heap)\n",
        "# The ability to heapify\n",
        "# The ability to get and remove (\"pop\") the root node from the heap (and of course re-heapify everything)\n",
        "# The heap should be generic to the type of data (can store floats, int, custom datastructure)\n",
        "# Show example(s) of your heap working. Please demonstrate ALL the functionality you implemented.\n",
        "# Upload your source code to github along with your example(s).\n",
        "\n",
        "\n",
        "\n",
        "class MinHeap:\n",
        "    def __init__(self):\n",
        "        self.heap = []\n",
        "\n",
        "    def parent(self, i):\n",
        "        return (i - 1) >> 1\n",
        "\n",
        "    def left(self, i):\n",
        "        return (i << 1) + 1\n",
        "\n",
        "    def right(self, i):\n",
        "        return (i << 1) + 2\n",
        "\n",
        "    def heapify(self, i):\n",
        "        smallest = i\n",
        "        l = self.left(i)\n",
        "        r = self.right(i)\n",
        "        if l < len(self.heap) and self.heap[l] < self.heap[smallest]:\n",
        "            smallest = l\n",
        "        if r < len(self.heap) and self.heap[r] < self.heap[smallest]:\n",
        "            smallest = r\n",
        "        if smallest != i:\n",
        "            self.heap[i], self.heap[smallest] = self.heap[smallest], self.heap[i]\n",
        "            self.heapify(smallest)\n",
        "\n",
        "    def build_min_heap(self, arr):\n",
        "        self.heap = arr\n",
        "        n = len(arr)\n",
        "        for i in range(n // 2, -1, -1):\n",
        "            self.heapify(i)\n",
        "\n",
        "    def pop(self):\n",
        "        if not self.heap:\n",
        "            return None\n",
        "        root = self.heap[0]\n",
        "        self.heap[0] = self.heap[-1]\n",
        "        self.heap.pop()\n",
        "        self.heapify(0)\n",
        "        return root\n",
        "\n",
        "    def change_value(self, index, new_value):\n",
        "        if index < 0 or index >= len(self.heap):\n",
        "            return False\n",
        "        old_value = self.heap[index]\n",
        "        self.heap[index] = new_value\n",
        "        if new_value < old_value:\n",
        "            while index > 0 and self.heap[self.parent(index)] > self.heap[index]:\n",
        "                self.heap[index], self.heap[self.parent(index)] = self.heap[self.parent(index)], self.heap[index]\n",
        "                index = self.parent(index)\n",
        "        else:\n",
        "            self.heapify(index)\n",
        "        return True\n",
        "\n",
        "# Example usage\n",
        "heap = MinHeap()\n",
        "heap.build_min_heap([4, 10, 3, 5, 1])\n",
        "print(heap.heap)  # Output: [1, 4, 3, 10, 5]\n",
        "\n",
        "# Change the value at index 2 to 2\n",
        "heap.change_value(2, 2)\n",
        "print(heap.heap)  # Output: [1, 2, 3, 10, 5]\n",
        "\n",
        "# Pop the root node\n",
        "root = heap.pop()\n",
        "print(\"Popped root:\", root)  # Output: Popped root: 1\n",
        "print(heap.heap)  # Output: [2, 4, 3, 10, 5]"
      ]
    }
  ]
}